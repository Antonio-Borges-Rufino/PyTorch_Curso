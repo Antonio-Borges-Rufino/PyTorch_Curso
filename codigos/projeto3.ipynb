{
  "nbformat": 4,
  "nbformat_minor": 0,
  "metadata": {
    "colab": {
      "name": "projeto3.ipynb",
      "provenance": [],
      "collapsed_sections": []
    },
    "kernelspec": {
      "name": "python3",
      "display_name": "Python 3"
    },
    "language_info": {
      "name": "python"
    }
  },
  "cells": [
    {
      "cell_type": "markdown",
      "source": [
        "#1. Terceiro projeto do curso de deep learning com pytorch"
      ],
      "metadata": {
        "id": "f2l1y2Z_5flG"
      }
    },
    {
      "cell_type": "markdown",
      "source": [
        "##2. Importar as bibliotecas"
      ],
      "metadata": {
        "id": "YIsbwWPJ5rsx"
      }
    },
    {
      "cell_type": "code",
      "execution_count": null,
      "metadata": {
        "id": "AaYzm1_k5STO"
      },
      "outputs": [],
      "source": [
        "import pandas as pd\n",
        "import numpy as np\n",
        "import torch.nn as nn\n",
        "import torch\n",
        "import torch.nn.functional as F\n",
        "import sklearn\n",
        "from sklearn.model_selection import GridSearchCV\n",
        "from sklearn.preprocessing import MaxAbsScaler"
      ]
    },
    {
      "cell_type": "markdown",
      "source": [
        "###2.1 Instalar skorch 0.8 (está funcionando sem dar erro de dimensionalidade)"
      ],
      "metadata": {
        "id": "rHXbQIBv6Kdc"
      }
    },
    {
      "cell_type": "code",
      "source": [
        "!pip install skorch==0.8.0\n",
        "from skorch import NeuralNetBinaryClassifier"
      ],
      "metadata": {
        "id": "yGU5MkXy6RNW",
        "colab": {
          "base_uri": "https://localhost:8080/"
        },
        "outputId": "4f9b6e32-1aca-4263-bf31-c4d670003892"
      },
      "execution_count": null,
      "outputs": [
        {
          "output_type": "stream",
          "name": "stdout",
          "text": [
            "Requirement already satisfied: skorch==0.8.0 in /usr/local/lib/python3.7/dist-packages (0.8.0)\n",
            "Requirement already satisfied: numpy>=1.13.3 in /usr/local/lib/python3.7/dist-packages (from skorch==0.8.0) (1.19.5)\n",
            "Requirement already satisfied: tqdm>=4.14.0 in /usr/local/lib/python3.7/dist-packages (from skorch==0.8.0) (4.62.3)\n",
            "Requirement already satisfied: tabulate>=0.7.7 in /usr/local/lib/python3.7/dist-packages (from skorch==0.8.0) (0.8.9)\n",
            "Requirement already satisfied: scipy>=1.1.0 in /usr/local/lib/python3.7/dist-packages (from skorch==0.8.0) (1.4.1)\n",
            "Requirement already satisfied: scikit-learn>=0.19.1 in /usr/local/lib/python3.7/dist-packages (from skorch==0.8.0) (1.0.1)\n",
            "Requirement already satisfied: threadpoolctl>=2.0.0 in /usr/local/lib/python3.7/dist-packages (from scikit-learn>=0.19.1->skorch==0.8.0) (3.0.0)\n",
            "Requirement already satisfied: joblib>=0.11 in /usr/local/lib/python3.7/dist-packages (from scikit-learn>=0.19.1->skorch==0.8.0) (1.1.0)\n"
          ]
        }
      ]
    },
    {
      "cell_type": "markdown",
      "source": [
        "##3. Deixando o fator randomico de reprodutibilidade padrão em 1"
      ],
      "metadata": {
        "id": "P4Qttz7o6dWY"
      }
    },
    {
      "cell_type": "code",
      "source": [
        "np.random.seed(1)\n",
        "torch.manual_seed(1)"
      ],
      "metadata": {
        "colab": {
          "base_uri": "https://localhost:8080/"
        },
        "id": "dYxATRc_7bXx",
        "outputId": "6d2a487c-b472-40c4-ab12-8709cc9aa54f"
      },
      "execution_count": null,
      "outputs": [
        {
          "output_type": "execute_result",
          "data": {
            "text/plain": [
              "<torch._C.Generator at 0x7f99b68bb7d0>"
            ]
          },
          "metadata": {},
          "execution_count": 4
        }
      ]
    },
    {
      "cell_type": "markdown",
      "source": [
        "##4. Importando o conjunto de dados"
      ],
      "metadata": {
        "id": "XIgc8ZdV7gI6"
      }
    },
    {
      "cell_type": "code",
      "source": [
        "previsores = pd.read_csv('/content/drive/MyDrive/entradas_breast.csv')\n",
        "predito = pd.read_csv('/content/drive/MyDrive/saidas_breast.csv')\n",
        "print(predito.shape)\n",
        "quantidade_unico = np.unique(predito)\n",
        "print('Classes possíveis: {}'.format(quantidade_unico))"
      ],
      "metadata": {
        "colab": {
          "base_uri": "https://localhost:8080/"
        },
        "id": "GM5sRa6t7izN",
        "outputId": "ffe8b41f-1f5d-475e-9275-715614d7566c"
      },
      "execution_count": null,
      "outputs": [
        {
          "output_type": "stream",
          "name": "stdout",
          "text": [
            "(569, 1)\n",
            "Classes possíveis: [0 1]\n"
          ]
        }
      ]
    },
    {
      "cell_type": "markdown",
      "source": [
        "##5. Redefinindo as variaveis para np array"
      ],
      "metadata": {
        "id": "Me9QBjPW7nOW"
      }
    },
    {
      "cell_type": "code",
      "source": [
        "previsoes = np.array(previsores,dtype='float32')\n",
        "classes = np.array(predito,dtype='float32').squeeze(1)#tira a dimensão extra do array"
      ],
      "metadata": {
        "id": "lrmvU-_17rnv"
      },
      "execution_count": null,
      "outputs": []
    },
    {
      "cell_type": "markdown",
      "source": [
        "##6. Deixando os dados de entrada normalizados"
      ],
      "metadata": {
        "id": "TO6POBHy8CNF"
      }
    },
    {
      "cell_type": "code",
      "source": [
        "previsoes_norm = MaxAbsScaler().fit(previsoes)\n",
        "previsoes_norm = previsoes_norm.transform(previsoes)"
      ],
      "metadata": {
        "id": "KmbYihgs8GJY"
      },
      "execution_count": null,
      "outputs": []
    },
    {
      "cell_type": "markdown",
      "source": [
        "##7. Construindo a classe da rede neural"
      ],
      "metadata": {
        "id": "nUKHrBPm8OBY"
      }
    },
    {
      "cell_type": "code",
      "source": [
        "class classificador(nn.Module):\n",
        "#Aqui vão ser passado parametros adicionais para a classe\n",
        "  def __init__(self,activation, neurons, initializer):#inicia o construtor\n",
        "    super().__init__()#inicializa o construtor da super classe\n",
        "    \n",
        "    self.camada0 = nn.Linear(in_features = 30, out_features = neurons)\n",
        "    initializer(self.camada0.weight)\n",
        "    self.ativacao0 = activation\n",
        "    self.dp0 = nn.Dropout(0.2)\n",
        "    \n",
        "    self.camada1 = nn.Linear(in_features = 16, out_features = neurons)\n",
        "    initializer(self.camada1.weight)\n",
        "    self.ativacao1 = activation\n",
        "    self.dp1 = nn.Dropout(0.2)\n",
        "    \n",
        "    self.camada2 = nn.Linear(in_features=16, out_features=1)\n",
        "    initializer(self.camada2.weight)\n",
        "    self.output = nn.Sigmoid()\n",
        "  \n",
        "  def forward(self, x):\n",
        "    x = self.camada0(x)\n",
        "    x = self.ativacao0(x)\n",
        "    x = self.dp0(x)\n",
        "    x = self.camada1(x)\n",
        "    x = self.ativacao1(x)\n",
        "    x = self.dp1(x)\n",
        "    x = self.camada2(x)\n",
        "    x = self.output(x)\n",
        "    return x"
      ],
      "metadata": {
        "id": "Dez6JQmV8T7L"
      },
      "execution_count": null,
      "outputs": []
    },
    {
      "cell_type": "markdown",
      "source": [
        "##8. Definindo o classificador sklearn com skorch"
      ],
      "metadata": {
        "id": "9p_GCbnE8Zss"
      }
    },
    {
      "cell_type": "code",
      "source": [
        "classificador_sklearn = NeuralNetBinaryClassifier(module=classificador,\n",
        "                                                  optimizer__weight_decay=0.0001,\n",
        "                                                  train_split = False\n",
        "                                                      )"
      ],
      "metadata": {
        "id": "uo7gjKPA8ZYE"
      },
      "execution_count": null,
      "outputs": []
    },
    {
      "cell_type": "markdown",
      "source": [
        "##9. Definindo os parametros do tunning"
      ],
      "metadata": {
        "id": "YrGzgwjM-bC9"
      }
    },
    {
      "cell_type": "code",
      "source": [
        "parans = {'criterion':[torch.nn.BCELoss,torch.nn.HingeEmbeddingLoss],\n",
        "          'optimizer':[torch.optim.Adam,torch.optim.SGD],\n",
        "          'lr':[0.001,0.002,0.003,0.004,0.005],\n",
        "          'max_epochs':[100,50,20],\n",
        "          'batch_size':[10,20],\n",
        "          'module__activation':[torch.relu,torch.sigmoid,torch.tanh],\n",
        "          'module__neurons':[16,30,40],\n",
        "          'module__initializer':[torch.nn.init.uniform_,torch.nn.init.zeros_,torch.nn.init.normal_]}"
      ],
      "metadata": {
        "id": "K2Y6gS5G-eK5"
      },
      "execution_count": null,
      "outputs": []
    },
    {
      "cell_type": "markdown",
      "source": [
        "##10. Criar o tunning"
      ],
      "metadata": {
        "id": "5hzPOEd-AwME"
      }
    },
    {
      "cell_type": "code",
      "source": [
        "tunning_aval = GridSearchCV(estimator=classificador_sklearn,param_grid=parans,scoring='accuracy',cv=2)\n",
        "result = tunning_aval.fit(previsoes_norm,classes)"
      ],
      "metadata": {
        "colab": {
          "base_uri": "https://localhost:8080/"
        },
        "id": "Od0J0q3ZAyt7",
        "outputId": "8255a869-bc62-44f6-814b-2b62dd35e416"
      },
      "execution_count": null,
      "outputs": [
        {
          "output_type": "stream",
          "name": "stdout",
          "text": [
            "     23       37.1930  0.0548\n",
            "     24       37.1930  0.0358\n",
            "     25       37.1930  0.0377\n",
            "     26       37.1930  0.0452\n",
            "     27       37.1930  0.0402\n",
            "     28       37.1930  0.0393\n",
            "     29       37.1930  0.0341\n",
            "     30       37.1930  0.0373\n",
            "     31       37.1930  0.0392\n",
            "     32       37.1930  0.0381\n",
            "     33       37.1930  0.0479\n",
            "     34       37.1930  0.0488\n",
            "     35       37.1930  0.0452\n",
            "     36       37.1930  0.0366\n",
            "     37       37.1930  0.0386\n",
            "     38       37.1930  0.0373\n",
            "     39       37.1930  0.0391\n",
            "     40       37.1930  0.0355\n",
            "     41       37.1930  0.0348\n",
            "     42       37.1930  0.0350\n",
            "     43       37.1930  0.0360\n",
            "     44       37.1930  0.0408\n",
            "     45       37.1930  0.0384\n",
            "     46       37.1930  0.0793\n",
            "     47       37.1930  0.0430\n",
            "     48       37.1930  0.0319\n",
            "     49       37.1930  0.0370\n",
            "     50       37.1930  0.0439\n",
            "     51       37.1930  0.0431\n",
            "     52       37.1930  0.0424\n",
            "     53       37.1930  0.0441\n",
            "     54       37.1930  0.0368\n",
            "     55       37.1930  0.0328\n",
            "     56       37.1930  0.0352\n",
            "     57       37.1930  0.0324\n",
            "     58       37.1930  0.0323\n",
            "     59       37.1930  0.0411\n",
            "     60       37.1930  0.0352\n",
            "     61       37.1930  0.0388\n",
            "     62       37.1930  0.0438\n",
            "     63       37.1930  0.0560\n",
            "     64       37.1930  0.0442\n",
            "     65       37.1930  0.0452\n",
            "     66       37.1930  0.0563\n",
            "     67       37.1930  0.0542\n",
            "     68       37.1930  0.0530\n",
            "     69       37.1930  0.0427\n",
            "     70       37.1930  0.0422\n",
            "     71       37.1930  0.0478\n",
            "     72       37.1930  0.0343\n",
            "     73       37.1930  0.0424\n",
            "     74       37.1930  0.0344\n",
            "     75       37.1930  0.0323\n",
            "     76       37.1930  0.0312\n",
            "     77       37.1930  0.0341\n",
            "     78       37.1930  0.0378\n",
            "     79       37.1930  0.0427\n",
            "     80       37.1930  0.0504\n",
            "     81       37.1930  0.0435\n",
            "     82       37.1930  0.0406\n",
            "     83       37.1930  0.0423\n",
            "     84       37.1930  0.0447\n",
            "     85       37.1930  0.0336\n",
            "     86       37.1930  0.0404\n",
            "     87       37.1930  0.0362\n",
            "     88       37.1930  0.0438\n",
            "     89       37.1930  0.0346\n",
            "     90       37.1930  0.0390\n",
            "     91       37.1930  0.0354\n",
            "     92       37.1930  0.0624\n",
            "     93       37.1930  0.0366\n",
            "     94       37.1930  0.0330\n",
            "     95       37.1930  0.0442\n",
            "     96       37.1930  0.0304\n",
            "     97       37.1930  0.0303\n",
            "     98       37.1930  0.0325\n",
            "     99       37.1930  0.0360\n",
            "    100       37.1930  0.0441\n",
            "  epoch    train_loss     dur\n",
            "-------  ------------  ------\n",
            "      1        \u001b[36m0.7139\u001b[0m  0.0538\n",
            "      2        \u001b[36m0.7088\u001b[0m  0.0574\n",
            "      3        \u001b[36m0.7045\u001b[0m  0.0498\n",
            "      4        \u001b[36m0.6994\u001b[0m  0.0467\n",
            "      5        \u001b[36m0.6934\u001b[0m  0.0452\n",
            "      6        \u001b[36m0.6871\u001b[0m  0.0471\n",
            "      7        \u001b[36m0.6779\u001b[0m  0.0546\n",
            "      8        \u001b[36m0.6650\u001b[0m  0.0462\n",
            "      9        \u001b[36m0.6548\u001b[0m  0.0450\n",
            "     10        \u001b[36m0.6417\u001b[0m  0.0516\n",
            "     11        \u001b[36m0.6269\u001b[0m  0.0554\n"
          ]
        }
      ]
    },
    {
      "cell_type": "markdown",
      "source": [
        "##11. Mostrar os resultados após o tunning"
      ],
      "metadata": {
        "id": "iPA1rzYBTCVA"
      }
    },
    {
      "cell_type": "code",
      "source": [
        "print('Melhores Parametros: \\n{}\\n\\nMelhor score: {}'.format(result.best_params_,result.best_score_))"
      ],
      "metadata": {
        "id": "8EvMbejDRHca"
      },
      "execution_count": null,
      "outputs": []
    }
  ]
}
