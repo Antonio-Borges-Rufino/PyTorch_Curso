{
  "nbformat": 4,
  "nbformat_minor": 0,
  "metadata": {
    "colab": {
      "name": "projeto2.ipynb",
      "provenance": [],
      "collapsed_sections": []
    },
    "kernelspec": {
      "name": "python3",
      "display_name": "Python 3"
    },
    "language_info": {
      "name": "python"
    }
  },
  "cells": [
    {
      "cell_type": "markdown",
      "source": [
        "#1. Segundo projeto do curso de deep learning usando pytorch"
      ],
      "metadata": {
        "id": "fWjmVKChfv1H"
      }
    },
    {
      "cell_type": "markdown",
      "source": [
        "##2. Importando as bibiliotecas"
      ],
      "metadata": {
        "id": "FgTI3ec9kc8D"
      }
    },
    {
      "cell_type": "code",
      "source": [
        "import pandas as pd\n",
        "from sklearn.model_selection import train_test_split\n",
        "import numpy as np\n",
        "from sklearn.metrics import confusion_matrix, accuracy_score\n",
        "from sklearn.model_selection import cross_val_score, cross_val_predict\n",
        "from sklearn.preprocessing import MaxAbsScaler\n",
        "import torch \n",
        "import torch.nn as nn"
      ],
      "metadata": {
        "id": "TUQ_D_3ne-dK"
      },
      "execution_count": null,
      "outputs": []
    },
    {
      "cell_type": "markdown",
      "source": [
        "###2.1 Instalar a biblioteca skorch"
      ],
      "metadata": {
        "id": "jpui3L-jCpL-"
      }
    },
    {
      "cell_type": "code",
      "source": [
        "!pip install skorch==0.8.0"
      ],
      "metadata": {
        "id": "g-tPZVNuCoEu",
        "colab": {
          "base_uri": "https://localhost:8080/"
        },
        "outputId": "b1dc5c51-852c-44ae-899c-8a7cb5ab09bc"
      },
      "execution_count": null,
      "outputs": [
        {
          "output_type": "stream",
          "name": "stdout",
          "text": [
            "Collecting skorch==0.8.0\n",
            "  Downloading skorch-0.8.0-py3-none-any.whl (113 kB)\n",
            "\u001b[?25l\r\u001b[K     |██▉                             | 10 kB 18.1 MB/s eta 0:00:01\r\u001b[K     |█████▊                          | 20 kB 22.5 MB/s eta 0:00:01\r\u001b[K     |████████▋                       | 30 kB 17.0 MB/s eta 0:00:01\r\u001b[K     |███████████▌                    | 40 kB 12.3 MB/s eta 0:00:01\r\u001b[K     |██████████████▍                 | 51 kB 5.5 MB/s eta 0:00:01\r\u001b[K     |█████████████████▎              | 61 kB 5.7 MB/s eta 0:00:01\r\u001b[K     |████████████████████▏           | 71 kB 5.2 MB/s eta 0:00:01\r\u001b[K     |███████████████████████         | 81 kB 5.7 MB/s eta 0:00:01\r\u001b[K     |██████████████████████████      | 92 kB 5.8 MB/s eta 0:00:01\r\u001b[K     |████████████████████████████▉   | 102 kB 5.2 MB/s eta 0:00:01\r\u001b[K     |███████████████████████████████▊| 112 kB 5.2 MB/s eta 0:00:01\r\u001b[K     |████████████████████████████████| 113 kB 5.2 MB/s \n",
            "\u001b[?25hRequirement already satisfied: tabulate>=0.7.7 in /usr/local/lib/python3.7/dist-packages (from skorch==0.8.0) (0.8.9)\n",
            "Requirement already satisfied: scikit-learn>=0.19.1 in /usr/local/lib/python3.7/dist-packages (from skorch==0.8.0) (1.0.1)\n",
            "Requirement already satisfied: numpy>=1.13.3 in /usr/local/lib/python3.7/dist-packages (from skorch==0.8.0) (1.19.5)\n",
            "Requirement already satisfied: tqdm>=4.14.0 in /usr/local/lib/python3.7/dist-packages (from skorch==0.8.0) (4.62.3)\n",
            "Requirement already satisfied: scipy>=1.1.0 in /usr/local/lib/python3.7/dist-packages (from skorch==0.8.0) (1.4.1)\n",
            "Requirement already satisfied: joblib>=0.11 in /usr/local/lib/python3.7/dist-packages (from scikit-learn>=0.19.1->skorch==0.8.0) (1.1.0)\n",
            "Requirement already satisfied: threadpoolctl>=2.0.0 in /usr/local/lib/python3.7/dist-packages (from scikit-learn>=0.19.1->skorch==0.8.0) (3.0.0)\n",
            "Installing collected packages: skorch\n",
            "Successfully installed skorch-0.8.0\n"
          ]
        }
      ]
    },
    {
      "cell_type": "code",
      "source": [
        "import skorch"
      ],
      "metadata": {
        "id": "hfFxINxtP5e5"
      },
      "execution_count": null,
      "outputs": []
    },
    {
      "cell_type": "markdown",
      "source": [
        "##3. Deixando o fator randomico de reprodutibilidade padrão em 1"
      ],
      "metadata": {
        "id": "33rci9Z_kiec"
      }
    },
    {
      "cell_type": "code",
      "source": [
        "np.random.seed(1)\n",
        "torch.manual_seed(1)"
      ],
      "metadata": {
        "colab": {
          "base_uri": "https://localhost:8080/"
        },
        "id": "lcmRHLezfB_j",
        "outputId": "c464d2d7-685d-4a96-9e00-e0fe7c096ee7"
      },
      "execution_count": null,
      "outputs": [
        {
          "output_type": "execute_result",
          "data": {
            "text/plain": [
              "<torch._C.Generator at 0x7f3e4892dc10>"
            ]
          },
          "metadata": {},
          "execution_count": 5
        }
      ]
    },
    {
      "cell_type": "markdown",
      "source": [
        "##4. Lendo os dados dos arquivos csv e plotando a classe"
      ],
      "metadata": {
        "id": "ia-Lb4EDk2ia"
      }
    },
    {
      "cell_type": "code",
      "source": [
        "previsores = pd.read_csv('/content/drive/MyDrive/entradas_breast.csv')\n",
        "predito = pd.read_csv('/content/drive/MyDrive/saidas_breast.csv')\n",
        "print(predito.shape)\n",
        "quantidade_unico = np.unique(predito)\n",
        "print('Classes possíveis: {}'.format(quantidade_unico))"
      ],
      "metadata": {
        "colab": {
          "base_uri": "https://localhost:8080/"
        },
        "id": "NuMJWU5UfJF2",
        "outputId": "b7178207-8629-43b3-e340-57963871a1c4"
      },
      "execution_count": null,
      "outputs": [
        {
          "output_type": "stream",
          "name": "stdout",
          "text": [
            "(569, 1)\n",
            "Classes possíveis: [0 1]\n"
          ]
        }
      ]
    },
    {
      "cell_type": "markdown",
      "source": [
        "##5. Redefinindo as variaveis para np array"
      ],
      "metadata": {
        "id": "Njjcapy9mtDP"
      }
    },
    {
      "cell_type": "code",
      "source": [
        "previsoes = np.array(previsores,dtype='float32')\n",
        "classes = np.array(predito,dtype='float32').squeeze(1)#tira a dimensão extra do array"
      ],
      "metadata": {
        "id": "Gmjp4fz3fZwR"
      },
      "execution_count": null,
      "outputs": []
    },
    {
      "cell_type": "markdown",
      "source": [
        "##6. Normalizar as entradas"
      ],
      "metadata": {
        "id": "tc-OpYbSon_f"
      }
    },
    {
      "cell_type": "code",
      "source": [
        "previsoes_norm = MaxAbsScaler().fit(previsoes)\n",
        "previsoes_norm = previsoes_norm.transform(previsoes)"
      ],
      "metadata": {
        "id": "n7gjguNzmQtd"
      },
      "execution_count": null,
      "outputs": []
    },
    {
      "cell_type": "markdown",
      "source": [
        "##7. Construir a classe para validação cruzada"
      ],
      "metadata": {
        "id": "mEAbzWCovQQV"
      }
    },
    {
      "cell_type": "code",
      "source": [
        "class classificador(nn.Module):\n",
        "#na validação cruzada, temos que determindar explicitamente a inicialização dos pesos\n",
        "#a validação dos pesos é feita em torch.nn.init.uniform(self.camadax.weight)\n",
        "#aqui tambem vamos colocar uma camada de droupout\n",
        "  def __init__(self):#inicia o construtor\n",
        "    super().__init__()#inicializa o construtor da super classe\n",
        "    self.camada0 = nn.Linear(in_features = 30, out_features = 16)\n",
        "    torch.nn.init.uniform_(self.camada0.weight)\n",
        "    self.ativacao0 = nn.ReLU()\n",
        "    self.dp0 = nn.Dropout(0.2)\n",
        "    self.camada1 = nn.Linear(in_features = 16, out_features = 16)\n",
        "    torch.nn.init.uniform_(self.camada1.weight)\n",
        "    self.ativacao1 = nn.ReLU()\n",
        "    self.dp1 = nn.Dropout(0.2)\n",
        "    self.camada2 = nn.Linear(in_features=16, out_features=1)\n",
        "    torch.nn.init.uniform_(self.camada2.weight)\n",
        "    self.output = nn.Sigmoid()\n",
        "  def forward(self, x):\n",
        "    x = self.camada0(x)\n",
        "    x = self.ativacao0(x)\n",
        "    x = self.dp0(x)\n",
        "    x = self.camada1(x)\n",
        "    x = self.ativacao1(x)\n",
        "    x = self.dp1(x)\n",
        "    x = self.camada2(x)\n",
        "    x = self.output(x)\n",
        "    return x"
      ],
      "metadata": {
        "id": "dKLy7nGGvT-E"
      },
      "execution_count": null,
      "outputs": []
    },
    {
      "cell_type": "markdown",
      "source": [
        "##8. Criar a validação cruzada com o skorch"
      ],
      "metadata": {
        "id": "52JNdeGfo81N"
      }
    },
    {
      "cell_type": "code",
      "source": [
        "classificador_sklearn = skorch.NeuralNetBinaryClassifier(module=classificador,\n",
        "                                                         criterion = torch.nn.BCELoss,\n",
        "                                                         optimizer = torch.optim.Adam,\n",
        "                                                         lr=0.001, \n",
        "                                                         optimizer__weight_decay=0.0001,\n",
        "                                                         max_epochs = 100,\n",
        "                                                         batch_size = 10,\n",
        "                                                         train_split = False\n",
        "                                                         )"
      ],
      "metadata": {
        "id": "8RsiGBljfuS5"
      },
      "execution_count": null,
      "outputs": []
    },
    {
      "cell_type": "markdown",
      "source": [
        "##9. Criar a cross validation com sklearn"
      ],
      "metadata": {
        "id": "oGh2SoVOpD9F"
      }
    },
    {
      "cell_type": "code",
      "source": [
        "treinamento = cross_val_score(classificador_sklearn,previsoes_norm,classes,cv=5,scoring='accuracy')"
      ],
      "metadata": {
        "id": "Qct8KLtMpKvn"
      },
      "execution_count": null,
      "outputs": []
    },
    {
      "cell_type": "markdown",
      "source": [
        "##10. Verificando métricas de resultado"
      ],
      "metadata": {
        "id": "NmGYT_5-pi5k"
      }
    },
    {
      "cell_type": "code",
      "source": [
        "#Vendo a média dos resultados\n",
        "media_result = treinamento.mean()\n",
        "#Vendo o desvio padrão dos resultados\n",
        "desvio_result = treinamento.std()\n",
        "print('Média: {}\\nDesvio: {}'.format(media_result,desvio_result))"
      ],
      "metadata": {
        "colab": {
          "base_uri": "https://localhost:8080/"
        },
        "id": "WYo2OaZipnE8",
        "outputId": "1765fe4b-cba2-4d67-f40e-df4bf5e0ac1e"
      },
      "execution_count": null,
      "outputs": [
        {
          "output_type": "stream",
          "name": "stdout",
          "text": [
            "Média: 0.9192206179164726\n",
            "Desvio: 0.028405314268504105\n"
          ]
        }
      ]
    }
  ]
}