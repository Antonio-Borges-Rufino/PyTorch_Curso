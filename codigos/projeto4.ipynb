{
  "nbformat": 4,
  "nbformat_minor": 0,
  "metadata": {
    "colab": {
      "name": "projeto4.ipynb",
      "provenance": [],
      "collapsed_sections": [
        "MqB0haWwY4HD",
        "NJWupUpkY9y1",
        "0Qx7_EYpZGJY",
        "qZMilSF7ZOLk",
        "Bgw_ovmBZV0s",
        "MvviKIciZnvh",
        "tXXwsBEIZ9PY",
        "1n_M3qRoaZoo"
      ]
    },
    "kernelspec": {
      "name": "python3",
      "display_name": "Python 3"
    },
    "language_info": {
      "name": "python"
    }
  },
  "cells": [
    {
      "cell_type": "markdown",
      "source": [
        "#1. Projeto 4 do curso de pytorch"
      ],
      "metadata": {
        "id": "llfzn7hAYzfs"
      }
    },
    {
      "cell_type": "markdown",
      "source": [
        "##2. Importar as bibliotecas"
      ],
      "metadata": {
        "id": "MqB0haWwY4HD"
      }
    },
    {
      "cell_type": "code",
      "execution_count": 1,
      "metadata": {
        "id": "tINoDuT2Yq6K"
      },
      "outputs": [],
      "source": [
        "import pandas as pd\n",
        "from sklearn.model_selection import train_test_split\n",
        "import seaborn as sns\n",
        "import numpy as np\n",
        "from sklearn.metrics import confusion_matrix, accuracy_score\n",
        "from sklearn.preprocessing import MaxAbsScaler\n",
        "import torch as tt\n",
        "import torch.nn as nn"
      ]
    },
    {
      "cell_type": "markdown",
      "source": [
        "##3. Deixar o fator randomico de reprodutibilidade em 1"
      ],
      "metadata": {
        "id": "NJWupUpkY9y1"
      }
    },
    {
      "cell_type": "code",
      "source": [
        "np.random.seed(1)\n",
        "tt.manual_seed(1)"
      ],
      "metadata": {
        "colab": {
          "base_uri": "https://localhost:8080/"
        },
        "id": "MSXzTBJQZEYo",
        "outputId": "d33984e8-256d-4d39-e295-f7f3fecc0c7a"
      },
      "execution_count": 2,
      "outputs": [
        {
          "output_type": "execute_result",
          "data": {
            "text/plain": [
              "<torch._C.Generator at 0x7fe39cabfc10>"
            ]
          },
          "metadata": {},
          "execution_count": 2
        }
      ]
    },
    {
      "cell_type": "markdown",
      "source": [
        "##4. Importar as bases de dados"
      ],
      "metadata": {
        "id": "0Qx7_EYpZGJY"
      }
    },
    {
      "cell_type": "code",
      "source": [
        "previsores = pd.read_csv('/content/drive/MyDrive/entradas_breast.csv')\n",
        "predito = pd.read_csv('/content/drive/MyDrive/saidas_breast.csv')\n",
        "print(predito.shape)\n",
        "quantidade_unico = np.unique(predito)\n",
        "print('Classes possíveis: {}'.format(quantidade_unico))"
      ],
      "metadata": {
        "colab": {
          "base_uri": "https://localhost:8080/"
        },
        "id": "fqJpf423ZFqw",
        "outputId": "aa6a63cd-8de4-494f-896a-c2fb92cbaa43"
      },
      "execution_count": 13,
      "outputs": [
        {
          "output_type": "stream",
          "name": "stdout",
          "text": [
            "(569, 1)\n",
            "Classes possíveis: [0 1]\n"
          ]
        }
      ]
    },
    {
      "cell_type": "markdown",
      "source": [
        "##5. Redefinindo as variaveis para numpy"
      ],
      "metadata": {
        "id": "qZMilSF7ZOLk"
      }
    },
    {
      "cell_type": "code",
      "source": [
        "previsoes = np.array(previsores,dtype='float32')\n",
        "classes = np.array(predito,dtype='float32')#tira a dimensão extra do array"
      ],
      "metadata": {
        "id": "qS3jxzQPZSR0"
      },
      "execution_count": 14,
      "outputs": []
    },
    {
      "cell_type": "markdown",
      "source": [
        "##6. Normalizando as entradas"
      ],
      "metadata": {
        "id": "Bgw_ovmBZV0s"
      }
    },
    {
      "cell_type": "code",
      "source": [
        "previsoes_norm = MaxAbsScaler().fit(previsoes)\n",
        "previsoes_norm = previsoes_norm.transform(previsoes)"
      ],
      "metadata": {
        "id": "fLd-C2x8ZaSe"
      },
      "execution_count": 15,
      "outputs": []
    },
    {
      "cell_type": "markdown",
      "source": [
        "##7. Redefinindo as variaveis para torch"
      ],
      "metadata": {
        "id": "MvviKIciZnvh"
      }
    },
    {
      "cell_type": "code",
      "source": [
        "previsoes_norm = tt.tensor(previsoes_norm,dtype=tt.float)\n",
        "classes = tt.tensor(classes,dtype=tt.float)"
      ],
      "metadata": {
        "id": "VLt98emeZrxC"
      },
      "execution_count": 16,
      "outputs": []
    },
    {
      "cell_type": "markdown",
      "source": [
        "##8. Construir os dados e a rede com os parametros testados na fase 3\n",
        "1. 'batch_size': 20, \n",
        "2. 'criterion': <class 'torch.nn.modules.loss.BCELoss'>,\n",
        "3.'lr': 0.005, \n",
        "4.'max_epochs': 100, \n",
        "5.'module__activation': <built-in method tanh of type object at 0x7f19b64a61a0>, \n",
        "6.'module__initializer': <function zeros_ at 0x7f18b9559b00>, \n",
        "7.'module__neurons': 16, \n",
        "8.'optimizer': <class 'torch.optim.adam.Adam'>"
      ],
      "metadata": {
        "id": "tXXwsBEIZ9PY"
      }
    },
    {
      "cell_type": "markdown",
      "source": [
        "##9. Criar um dataset e um dataloader "
      ],
      "metadata": {
        "id": "1n_M3qRoaZoo"
      }
    },
    {
      "cell_type": "code",
      "source": [
        "#construir o dataset pytorch\n",
        "dataset = tt.utils.data.TensorDataset(previsoes_norm,classes)\n",
        "#construir o microbatch de treinamento\n",
        "dataloader = tt.utils.data.DataLoader(dataset,batch_size=20,shuffle=True)"
      ],
      "metadata": {
        "id": "hLBjFIdOaYqQ"
      },
      "execution_count": 17,
      "outputs": []
    },
    {
      "cell_type": "markdown",
      "source": [
        "##10. Construir a rede"
      ],
      "metadata": {
        "id": "jsZ2ndGHah3L"
      }
    },
    {
      "cell_type": "code",
      "source": [
        "class classificador(nn.Module):\n",
        "  def __init__(self):\n",
        "    super().__init__()\n",
        "    self.camada0 = nn.Linear(in_features = 30, out_features = 16)\n",
        "    tt.nn.init.zeros_(self.camada0.weight)\n",
        "    self.ativacao0 = nn.Tanh()\n",
        "    self.dp0 = nn.Dropout(0.2)\n",
        "    self.camada1 = nn.Linear(in_features = 16, out_features = 16)\n",
        "    tt.nn.init.zeros_(self.camada1.weight)\n",
        "    self.ativacao1 = nn.Tanh()\n",
        "    self.dp1 = nn.Dropout(0.2)\n",
        "    self.camada2 = nn.Linear(in_features=16, out_features=1)\n",
        "    tt.nn.init.zeros_(self.camada2.weight)\n",
        "    self.output = nn.Sigmoid()\n",
        "  def forward(self, x):\n",
        "    x = self.camada0(x)\n",
        "    x = self.ativacao0(x)\n",
        "    x = self.dp0(x)\n",
        "    x = self.camada1(x)\n",
        "    x = self.ativacao1(x)\n",
        "    x = self.dp1(x)\n",
        "    x = self.camada2(x)\n",
        "    x = self.output(x)\n",
        "    return x"
      ],
      "metadata": {
        "id": "4rWypVu9ajuT"
      },
      "execution_count": 53,
      "outputs": []
    },
    {
      "cell_type": "markdown",
      "source": [
        "##11. Aplicar os hiperparametros e função de perda"
      ],
      "metadata": {
        "id": "L3aZHe6Jb2CM"
      }
    },
    {
      "cell_type": "code",
      "source": [
        "classificador = classificador()\n",
        "#função de erro \n",
        "er = nn.BCELoss()\n",
        "#otimizadores\n",
        "otm = tt.optim.Adam(classificador.parameters(), lr = 0.005, weight_decay=0.0001)"
      ],
      "metadata": {
        "id": "4yJVkX8Rb5hN"
      },
      "execution_count": 19,
      "outputs": []
    },
    {
      "cell_type": "markdown",
      "source": [
        "##12. Fazer o treinamento"
      ],
      "metadata": {
        "id": "KpLxZ9PLc1VO"
      }
    },
    {
      "cell_type": "code",
      "source": [
        "#treinamento\n",
        "for epoch in range(100):\n",
        "    ls = 0.0\n",
        "    for data in dataloader:\n",
        "        inputs, labels = data #separa as entradas e as saidas desejadas\n",
        "        otm.zero_grad() #zera todos os gradientes\n",
        "        outputs = classificador.forward(inputs) #faz o passo pra frente\n",
        "        loss = er(outputs,labels) #Calcula o erro\n",
        "        loss.backward() #reajusta os pesos\n",
        "        otm.step() #calcula o gradiente\n",
        "        ls = ls+loss.item()# Calcula o erro global\n",
        "    print('Epoca: {}, Erro: {}'.format(epoch,ls/len(dataloader)))"
      ],
      "metadata": {
        "id": "LcHI3GCyc369"
      },
      "execution_count": null,
      "outputs": []
    },
    {
      "cell_type": "markdown",
      "source": [
        "##13. Classificar um novo atributo unico"
      ],
      "metadata": {
        "id": "2DKxNI5IewKP"
      }
    },
    {
      "cell_type": "code",
      "source": [
        "novo = tt.tensor([[1,2,3,4,5,6,7,8,9,10,11,12,13,14,15,16,17,18,19,20,21,22,23,24,25,26,27,28,29,30]],dtype=tt.float)"
      ],
      "metadata": {
        "id": "LrQomUXfepuG"
      },
      "execution_count": 26,
      "outputs": []
    },
    {
      "cell_type": "markdown",
      "source": [
        "##14. Classificador em modo de avaliação"
      ],
      "metadata": {
        "id": "QUr9dX1ufN6Y"
      }
    },
    {
      "cell_type": "code",
      "source": [
        "classificador.eval()"
      ],
      "metadata": {
        "colab": {
          "base_uri": "https://localhost:8080/"
        },
        "id": "hc2PKmAyfQny",
        "outputId": "94f94bc2-863b-48a2-cb2c-23dc3660cab6"
      },
      "execution_count": 22,
      "outputs": [
        {
          "output_type": "execute_result",
          "data": {
            "text/plain": [
              "classificador(\n",
              "  (camada0): Linear(in_features=30, out_features=16, bias=True)\n",
              "  (ativacao0): Tanh()\n",
              "  (dp0): Dropout(p=0.2, inplace=False)\n",
              "  (camada1): Linear(in_features=16, out_features=16, bias=True)\n",
              "  (ativacao1): Tanh()\n",
              "  (dp1): Dropout(p=0.2, inplace=False)\n",
              "  (camada2): Linear(in_features=16, out_features=1, bias=True)\n",
              "  (output): Sigmoid()\n",
              ")"
            ]
          },
          "metadata": {},
          "execution_count": 22
        }
      ]
    },
    {
      "cell_type": "markdown",
      "source": [
        "##15. Fazer o foward"
      ],
      "metadata": {
        "id": "Tw-3ZVqAfXP0"
      }
    },
    {
      "cell_type": "code",
      "source": [
        "previsao = classificador.forward(novo)"
      ],
      "metadata": {
        "id": "AWmPErYyfW7b"
      },
      "execution_count": 43,
      "outputs": []
    },
    {
      "cell_type": "markdown",
      "source": [
        "##16. Ve se o tumor é maligno"
      ],
      "metadata": {
        "id": "G13W00wGgyXF"
      }
    },
    {
      "cell_type": "code",
      "source": [
        "previsao = previsao.detach()\n",
        "previsao = previsao.numpy()\n",
        "previsao = (previsao > 0.5)\n",
        "print('O tumor é maligno: {}'.format(previsao))"
      ],
      "metadata": {
        "colab": {
          "base_uri": "https://localhost:8080/"
        },
        "id": "NOhsflNkfplo",
        "outputId": "90e98feb-33f4-4f68-c527-960d79a8b479"
      },
      "execution_count": 45,
      "outputs": [
        {
          "output_type": "stream",
          "name": "stdout",
          "text": [
            "O tumor é maligno: [[False]]\n"
          ]
        }
      ]
    },
    {
      "cell_type": "markdown",
      "source": [
        "##17. Salvar o classificador"
      ],
      "metadata": {
        "id": "eZV18vAmhAlB"
      }
    },
    {
      "cell_type": "code",
      "source": [
        "tt.save(classificador.state_dict(),'classificador.pth')"
      ],
      "metadata": {
        "id": "NMGPan5ihFhT"
      },
      "execution_count": 51,
      "outputs": []
    },
    {
      "cell_type": "markdown",
      "source": [
        "##18. Carregar os pesos"
      ],
      "metadata": {
        "id": "FC-m8wuuiaPy"
      }
    },
    {
      "cell_type": "code",
      "source": [
        "cla = classificador() #É necessário refazer toda a arquitetura da rede e depois instanciar de novo, nesse caso\n",
        "                      # eu só reaproveitei o que ja tinha criado nesse arquivo\n",
        "std = tt.load('/content/classificador.pth')#Aqui faz o load dos pesos\n",
        "cla.load_state_dict(std)#Agora atualiza os pesos"
      ],
      "metadata": {
        "id": "YTgISlXLiqP3"
      },
      "execution_count": 54,
      "outputs": []
    },
    {
      "cell_type": "markdown",
      "source": [
        "##Fazer uma previsão"
      ],
      "metadata": {
        "id": "1u05SRIdjp95"
      }
    },
    {
      "cell_type": "code",
      "source": [
        "novo = tt.tensor([[1,2,3,4,5,6,7,8,9,10,11,12,13,14,15,16,17,18,19,20,21,22,23,24,25,26,27,28,29,30]],dtype=tt.float)\n",
        "cla.eval()\n",
        "previsao = cla.forward(novo)\n",
        "previsao = previsao.detach()\n",
        "previsao = previsao.numpy()\n",
        "previsao = (previsao > 0.5)\n",
        "print('O tumor é maligno: {}'.format(previsao))"
      ],
      "metadata": {
        "colab": {
          "base_uri": "https://localhost:8080/"
        },
        "id": "50tWogpujXcU",
        "outputId": "f262ce4f-fffe-441a-f0a8-2f597afafd77"
      },
      "execution_count": 58,
      "outputs": [
        {
          "output_type": "stream",
          "name": "stdout",
          "text": [
            "O tumor é maligno: [[False]]\n"
          ]
        }
      ]
    }
  ]
}