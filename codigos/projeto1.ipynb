{
  "nbformat": 4,
  "nbformat_minor": 0,
  "metadata": {
    "colab": {
      "name": "projeto1.ipynb",
      "provenance": [],
      "collapsed_sections": []
    },
    "kernelspec": {
      "name": "python3",
      "display_name": "Python 3"
    },
    "language_info": {
      "name": "python"
    }
  },
  "cells": [
    {
      "cell_type": "markdown",
      "source": [
        "#1. Primeiro projeto do curso de deep learning usando pytorch"
      ],
      "metadata": {
        "id": "fWjmVKChfv1H"
      }
    },
    {
      "cell_type": "markdown",
      "source": [
        "##2. Importando as bibiliotecas"
      ],
      "metadata": {
        "id": "FgTI3ec9kc8D"
      }
    },
    {
      "cell_type": "code",
      "source": [
        "import pandas as pd\n",
        "from sklearn.model_selection import train_test_split\n",
        "import seaborn as sns\n",
        "import numpy as np\n",
        "from sklearn.metrics import confusion_matrix, accuracy_score\n",
        "from sklearn.preprocessing import MaxAbsScaler\n",
        "import torch as tt\n",
        "import torch.nn as nn"
      ],
      "metadata": {
        "id": "TUQ_D_3ne-dK",
        "colab": {
          "base_uri": "https://localhost:8080/",
          "height": 339
        },
        "outputId": "19eccf58-1839-4ba7-83ca-7bc1be4e2d5c"
      },
      "execution_count": null,
      "outputs": [
        {
          "output_type": "error",
          "ename": "ModuleNotFoundError",
          "evalue": "ignored",
          "traceback": [
            "\u001b[0;31m---------------------------------------------------------------------------\u001b[0m",
            "\u001b[0;31mModuleNotFoundError\u001b[0m                       Traceback (most recent call last)",
            "\u001b[0;32m<ipython-input-1-4e72fa43136b>\u001b[0m in \u001b[0;36m<module>\u001b[0;34m()\u001b[0m\n\u001b[1;32m      7\u001b[0m \u001b[0;32mimport\u001b[0m \u001b[0mtorch\u001b[0m \u001b[0;32mas\u001b[0m \u001b[0mtt\u001b[0m\u001b[0;34m\u001b[0m\u001b[0;34m\u001b[0m\u001b[0m\n\u001b[1;32m      8\u001b[0m \u001b[0;32mimport\u001b[0m \u001b[0mtorch\u001b[0m\u001b[0;34m.\u001b[0m\u001b[0mnn\u001b[0m \u001b[0;32mas\u001b[0m \u001b[0mnn\u001b[0m\u001b[0;34m\u001b[0m\u001b[0;34m\u001b[0m\u001b[0m\n\u001b[0;32m----> 9\u001b[0;31m \u001b[0;32mimport\u001b[0m \u001b[0mskorch\u001b[0m\u001b[0;34m\u001b[0m\u001b[0;34m\u001b[0m\u001b[0m\n\u001b[0m",
            "\u001b[0;31mModuleNotFoundError\u001b[0m: No module named 'skorch'",
            "",
            "\u001b[0;31m---------------------------------------------------------------------------\u001b[0;32m\nNOTE: If your import is failing due to a missing package, you can\nmanually install dependencies using either !pip or !apt.\n\nTo view examples of installing some common dependencies, click the\n\"Open Examples\" button below.\n\u001b[0;31m---------------------------------------------------------------------------\u001b[0m\n"
          ],
          "errorDetails": {
            "actions": [
              {
                "action": "open_url",
                "actionText": "Open Examples",
                "url": "/notebooks/snippets/importing_libraries.ipynb"
              }
            ]
          }
        }
      ]
    },
    {
      "cell_type": "markdown",
      "source": [
        "##3. Deixando o fator randomico de reprodutibilidade padrão em 1"
      ],
      "metadata": {
        "id": "33rci9Z_kiec"
      }
    },
    {
      "cell_type": "code",
      "source": [
        "np.random.seed(1)\n",
        "tt.manual_seed(1)"
      ],
      "metadata": {
        "colab": {
          "base_uri": "https://localhost:8080/"
        },
        "id": "lcmRHLezfB_j",
        "outputId": "af85aa5b-2da8-4a7a-990e-9d3de73cfe1c"
      },
      "execution_count": null,
      "outputs": [
        {
          "output_type": "execute_result",
          "data": {
            "text/plain": [
              "<torch._C.Generator at 0x7f65aecf6c10>"
            ]
          },
          "metadata": {},
          "execution_count": 2
        }
      ]
    },
    {
      "cell_type": "markdown",
      "source": [
        "##4. Lendo os dados dos arquivos csv e plotando a classe"
      ],
      "metadata": {
        "id": "ia-Lb4EDk2ia"
      }
    },
    {
      "cell_type": "code",
      "source": [
        "previsores = pd.read_csv('/content/entradas_breast.csv')\n",
        "predito = pd.read_csv('/content/saidas_breast.csv')\n",
        "print(predito.shape)\n",
        "quantidade_unico = np.unique(predito)\n",
        "sns.countplot(predito['0'])"
      ],
      "metadata": {
        "colab": {
          "base_uri": "https://localhost:8080/",
          "height": 368
        },
        "id": "NuMJWU5UfJF2",
        "outputId": "2a4dc4f0-8382-4e89-c66b-714a8353cb7c"
      },
      "execution_count": null,
      "outputs": [
        {
          "output_type": "stream",
          "name": "stdout",
          "text": [
            "(569, 1)\n"
          ]
        },
        {
          "output_type": "stream",
          "name": "stderr",
          "text": [
            "/usr/local/lib/python3.7/dist-packages/seaborn/_decorators.py:43: FutureWarning: Pass the following variable as a keyword arg: x. From version 0.12, the only valid positional argument will be `data`, and passing other arguments without an explicit keyword will result in an error or misinterpretation.\n",
            "  FutureWarning\n"
          ]
        },
        {
          "output_type": "execute_result",
          "data": {
            "text/plain": [
              "<matplotlib.axes._subplots.AxesSubplot at 0x7f66bf5028d0>"
            ]
          },
          "metadata": {},
          "execution_count": 3
        },
        {
          "output_type": "display_data",
          "data": {
            "image/png": "[encoded data removed]",
            "text/plain": [
              "<Figure size 432x288 with 1 Axes>"
            ]
          },
          "metadata": {
            "needs_background": "light"
          }
        }
      ]
    },
    {
      "cell_type": "markdown",
      "source": [
        "##5. Separando a base de dados em treinamento e teste"
      ],
      "metadata": {
        "id": "OsTmZvrKk-es"
      }
    },
    {
      "cell_type": "code",
      "source": [
        "ptreinamento,pteste,ctreinamento,cteste = train_test_split(previsores,predito,test_size=0.3)"
      ],
      "metadata": {
        "id": "R2K1YZIpfOGd"
      },
      "execution_count": null,
      "outputs": []
    },
    {
      "cell_type": "markdown",
      "source": [
        "##6. Redefinindo as variaveis para np array"
      ],
      "metadata": {
        "id": "Njjcapy9mtDP"
      }
    },
    {
      "cell_type": "code",
      "source": [
        "ptreinamento = np.array(ptreinamento)\n",
        "pteste = np.array(pteste)\n",
        "ctreinamento = np.array(ctreinamento)\n",
        "cteste = np.array(cteste) "
      ],
      "metadata": {
        "id": "Gmjp4fz3fZwR"
      },
      "execution_count": null,
      "outputs": []
    },
    {
      "cell_type": "markdown",
      "source": [
        "##7. Normalizar as entradas"
      ],
      "metadata": {
        "id": "tc-OpYbSon_f"
      }
    },
    {
      "cell_type": "code",
      "source": [
        "ptreinamento_norm = MaxAbsScaler().fit(ptreinamento)\n",
        "ptreinamento_norm = ptreinamento_norm.transform(ptreinamento)\n",
        "ctreinamento_norm = MaxAbsScaler().fit(ctreinamento)\n",
        "ctreinamento_norm = ctreinamento_norm.transform(ctreinamento)"
      ],
      "metadata": {
        "id": "n7gjguNzmQtd"
      },
      "execution_count": null,
      "outputs": []
    },
    {
      "cell_type": "markdown",
      "source": [
        "##8. Trasnformar os dados em torch"
      ],
      "metadata": {
        "id": "hO9sozpBorff"
      }
    },
    {
      "cell_type": "code",
      "source": [
        "ptreinamento = tt.tensor(ptreinamento,dtype=tt.float)\n",
        "pteste = tt.tensor(pteste,dtype=tt.float)\n",
        "ctreinamento = tt.tensor(ctreinamento,dtype=tt.float)\n",
        "cteste = tt.tensor(cteste,dtype=tt.float)"
      ],
      "metadata": {
        "id": "2oVQC0xKfbix"
      },
      "execution_count": null,
      "outputs": []
    },
    {
      "cell_type": "markdown",
      "source": [
        "##9. Construir um dataset e um dataloader que é um array de micro batchs para o treinamento"
      ],
      "metadata": {
        "id": "6xWZvL8bow2g"
      }
    },
    {
      "cell_type": "code",
      "source": [
        "#construir o dataset pytorch\n",
        "dataset = tt.utils.data.TensorDataset(ptreinamento,ctreinamento)\n",
        "#construir o microbatch de treinamento\n",
        "dataloader = tt.utils.data.DataLoader(dataset,batch_size=5,shuffle=True)"
      ],
      "metadata": {
        "id": "-wVKY6Fsffjb"
      },
      "execution_count": null,
      "outputs": []
    },
    {
      "cell_type": "markdown",
      "source": [
        "##10. Construir a rede"
      ],
      "metadata": {
        "id": "52JNdeGfo81N"
      }
    },
    {
      "cell_type": "code",
      "source": [
        "#construindo os modelos\n",
        "classificador = nn.Sequential(\n",
        "        nn.Linear(in_features = 30, out_features = 16),\n",
        "        nn.ReLU(),\n",
        "        nn.Linear(in_features = 16, out_features = 16),\n",
        "        nn.ReLU(),\n",
        "        nn.Linear(in_features=16, out_features=1),\n",
        "        nn.Sigmoid()\n",
        "    )"
      ],
      "metadata": {
        "id": "8RsiGBljfuS5"
      },
      "execution_count": null,
      "outputs": []
    },
    {
      "cell_type": "markdown",
      "source": [
        "##11. Aplicar os hiperparametros e a função de perda"
      ],
      "metadata": {
        "id": "oGh2SoVOpD9F"
      }
    },
    {
      "cell_type": "code",
      "source": [
        "#função de erro \n",
        "er = nn.BCELoss()\n",
        "#otimizadores\n",
        "otm = tt.optim.Adam(classificador.parameters(), lr = 0.001, weight_decay=0.0001)"
      ],
      "metadata": {
        "id": "Qct8KLtMpKvn"
      },
      "execution_count": null,
      "outputs": []
    },
    {
      "cell_type": "markdown",
      "source": [
        "##12. Realizar o treinamento"
      ],
      "metadata": {
        "id": "uUpaCaWqpMLH"
      }
    },
    {
      "cell_type": "code",
      "execution_count": null,
      "metadata": {
        "id": "eYQAka0hetRs"
      },
      "outputs": [],
      "source": [
        "#treinamento\n",
        "for epoch in range(100):\n",
        "    ls = 0.0\n",
        "    for data in dataloader:\n",
        "        inputs, labels = data #separa as entradas e as saidas desejadas\n",
        "        otm.zero_grad() #zera todos os gradientes\n",
        "        outputs = classificador.forward(inputs) #faz o passo pra frente\n",
        "        loss = er(outputs,labels) #Calcula o erro\n",
        "        loss.backward() #reajusta os pesos\n",
        "        otm.step() #calcula o gradiente\n",
        "        ls = ls+loss.item()# Calcula o erro global\n",
        "        print('Epoca: {}, Erro: {}'.format(epoch,ls/len(dataloader)))"
      ]
    },
    {
      "cell_type": "markdown",
      "source": [
        "##13. Ver os pesos do pós treinamento"
      ],
      "metadata": {
        "id": "d4OhvoHapRDI"
      }
    },
    {
      "cell_type": "code",
      "source": [
        "pesos = list(classificador.parameters())\n",
        "print(pesos[0])"
      ],
      "metadata": {
        "id": "CiZs6OYdpUgx"
      },
      "execution_count": null,
      "outputs": []
    },
    {
      "cell_type": "markdown",
      "source": [
        "##14. Colocar a rede neural em modo de avaliação"
      ],
      "metadata": {
        "id": "IkP7w4o7ARCx"
      }
    },
    {
      "cell_type": "code",
      "source": [
        "classificador.eval()"
      ],
      "metadata": {
        "colab": {
          "base_uri": "https://localhost:8080/"
        },
        "id": "j-heQzBKAXPQ",
        "outputId": "c14fc658-d6b0-424a-c19e-d0dac2d6383c"
      },
      "execution_count": null,
      "outputs": [
        {
          "output_type": "execute_result",
          "data": {
            "text/plain": [
              "Sequential(\n",
              "  (0): Linear(in_features=30, out_features=16, bias=True)\n",
              "  (1): ReLU()\n",
              "  (2): Linear(in_features=16, out_features=16, bias=True)\n",
              "  (3): ReLU()\n",
              "  (4): Linear(in_features=16, out_features=1, bias=True)\n",
              "  (5): Sigmoid()\n",
              ")"
            ]
          },
          "metadata": {},
          "execution_count": 13
        }
      ]
    },
    {
      "cell_type": "markdown",
      "source": [
        "##15. Fazer a avaliação com os dados de teste"
      ],
      "metadata": {
        "id": "YAaD1xXTAl-9"
      }
    },
    {
      "cell_type": "code",
      "source": [
        "previsoes = classificador.forward(pteste)"
      ],
      "metadata": {
        "id": "BR6FWAKzAr5O"
      },
      "execution_count": null,
      "outputs": []
    },
    {
      "cell_type": "markdown",
      "source": [
        "##16. transformar as variaveis em classifcadores binários"
      ],
      "metadata": {
        "id": "G_J9ifvmBddV"
      }
    },
    {
      "cell_type": "code",
      "source": [
        "#Nesse código, tudo que for maior que 0.5 é igual a 1, o que sobrar é 0\n",
        "previsoes = np.array(previsoes > 0.5)"
      ],
      "metadata": {
        "id": "Gv-RcbQXBD72"
      },
      "execution_count": null,
      "outputs": []
    },
    {
      "cell_type": "markdown",
      "source": [
        "##17. Verificar a acurácia do modelo"
      ],
      "metadata": {
        "id": "UJF-uRfpK2Zk"
      }
    },
    {
      "cell_type": "code",
      "source": [
        "taxaacc = accuracy_score(cteste,previsoes)\n",
        "print(\"Accuracy: {}\".format(taxaacc))"
      ],
      "metadata": {
        "colab": {
          "base_uri": "https://localhost:8080/"
        },
        "id": "Tyl_frisDp-i",
        "outputId": "fd6f2c81-e83e-4bf4-eedc-abef231a08eb"
      },
      "execution_count": null,
      "outputs": [
        {
          "output_type": "stream",
          "name": "stdout",
          "text": [
            "Accuracy: 0.8713450292397661\n"
          ]
        }
      ]
    },
    {
      "cell_type": "markdown",
      "source": [
        "##18. Fazer a matriz de confusão"
      ],
      "metadata": {
        "id": "ZxuPhrIcLMQa"
      }
    },
    {
      "cell_type": "code",
      "source": [
        "mtconf = confusion_matrix(cteste,previsoes)\n",
        "sns.heatmap(mtconf,annot=True)"
      ],
      "metadata": {
        "colab": {
          "base_uri": "https://localhost:8080/",
          "height": 282
        },
        "id": "rOqxnsuuICcs",
        "outputId": "0fe2c0c5-9a39-40bc-a9d1-87f9d507f8c1"
      },
      "execution_count": null,
      "outputs": [
        {
          "output_type": "execute_result",
          "data": {
            "text/plain": [
              "<matplotlib.axes._subplots.AxesSubplot at 0x7f659fa0aa90>"
            ]
          },
          "metadata": {},
          "execution_count": 29
        },
        {
          "output_type": "display_data",
          "data": {
            "image/png": "[encoded data removed]",
            "text/plain": [
              "<Figure size 432x288 with 2 Axes>"
            ]
          },
          "metadata": {
            "needs_background": "light"
          }
        }
      ]
    }
  ]
}